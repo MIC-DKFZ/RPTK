{
 "cells": [
  {
   "cell_type": "markdown",
   "id": "753b02fa",
   "metadata": {},
   "source": [
    "# Download CRLM Data from WORC using WORC API\n",
    "This notebook downloads CRLM image and mask data using the WORC API based on entries in `CRLM_example.csv`."
   ]
  },
  {
   "cell_type": "code",
   "execution_count": null,
   "id": "121a3a6b",
   "metadata": {},
   "outputs": [],
   "source": [
    "import pandas as pd\n",
    "import os\n",
    "from WORC import download\n",
    "from pathlib import Path\n"
   ]
  },
  {
   "cell_type": "code",
   "execution_count": null,
   "id": "94f832a0",
   "metadata": {},
   "outputs": [],
   "source": [
    "# Load the CSV file\n",
    "csv_path = \"CRLM_example.csv\"\n",
    "data = pd.read_csv(csv_path)\n",
    "data.head()\n"
   ]
  },
  {
   "cell_type": "code",
   "execution_count": null,
   "id": "174af9b1",
   "metadata": {},
   "outputs": [],
   "source": [
    "# Make sure the output directory exists\n",
    "output_dir = Path(\"WORC_downloads\")\n",
    "output_dir.mkdir(exist_ok=True)\n"
   ]
  },
  {
   "cell_type": "code",
   "execution_count": null,
   "id": "c8f020f2",
   "metadata": {},
   "outputs": [],
   "source": [
    "# Loop through the CSV rows and download the data\n",
    "for idx, row in data.iterrows():\n",
    "    subject_id = row['ID']\n",
    "    image_url = row['Image']\n",
    "    mask_url = row['Mask']\n",
    "\n",
    "    print(f\"Downloading subject: {subject_id}\")\n",
    "    try:\n",
    "        download.download_from_url(image_url, output_dir / f\"{subject_id}_image.nii.gz\")\n",
    "        download.download_from_url(mask_url, output_dir / f\"{subject_id}_mask.nii.gz\")\n",
    "    except Exception as e:\n",
    "        print(f\"Error downloading {subject_id}: {e}\")\n"
   ]
  },
  {
   "cell_type": "code",
   "execution_count": null,
   "id": "b6bd50ad",
   "metadata": {},
   "outputs": [],
   "source": [
    "print(\"Download complete.\")\n"
   ]
  }
 ],
 "metadata": {},
 "nbformat": 4,
 "nbformat_minor": 5
}
